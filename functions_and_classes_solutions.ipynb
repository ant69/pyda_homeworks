{
  "nbformat": 4,
  "nbformat_minor": 0,
  "metadata": {
    "colab": {
      "name": "functions_and_classes_solutions.ipynb",
      "provenance": [],
      "authorship_tag": "ABX9TyPLIaOZy3yo4UBlMMZtKpfF",
      "include_colab_link": true
    },
    "kernelspec": {
      "name": "python3",
      "display_name": "Python 3"
    },
    "language_info": {
      "name": "python"
    }
  },
  "cells": [
    {
      "cell_type": "markdown",
      "metadata": {
        "id": "view-in-github",
        "colab_type": "text"
      },
      "source": [
        "<a href=\"https://colab.research.google.com/github/ant69/pyda_homeworks/blob/master/functions_and_classes_solutions.ipynb\" target=\"_parent\"><img src=\"https://colab.research.google.com/assets/colab-badge.svg\" alt=\"Open In Colab\"/></a>"
      ]
    },
    {
      "cell_type": "markdown",
      "metadata": {
        "id": "6v98McK6gwUN"
      },
      "source": [
        "## Задание 1\n",
        "Напишите функцию, которая возвращает название валюты (поле ‘Name’) с максимальным значением курса с помощью сервиса www.cbr-xml-daily.ru...ly_json.js"
      ]
    },
    {
      "cell_type": "code",
      "metadata": {
        "id": "KJmNbN_Ht-D9"
      },
      "source": [
        ""
      ],
      "execution_count": null,
      "outputs": []
    },
    {
      "cell_type": "markdown",
      "metadata": {
        "id": "BRWZ9--1g3Xh"
      },
      "source": [
        "___\n",
        "## Решение задания 1"
      ]
    },
    {
      "cell_type": "code",
      "metadata": {
        "colab": {
          "base_uri": "https://localhost:8080/"
        },
        "id": "ZRssrDCKgt2G",
        "outputId": "a5296c7e-b914-4483-a3bd-1f3bdf3cfc7f"
      },
      "source": [
        "import requests\n",
        "def get_max_currency():\n",
        "    \"\"\"\n",
        "    Возвращает информацию о валюте с максимальным курсом в виде списка:\n",
        "    [currency_name, currency_rate]    \n",
        "    \"\"\"\n",
        "    r = requests.get('https://www.cbr-xml-daily.ru/daily_json.js')\n",
        "    # В функции инициализируем переменные для хранения названия валюты и ее курса\n",
        "    max_currency_name = ''\n",
        "    max_value = 0\n",
        "    for currency in r.json()['Valute'].values():\n",
        "      if currency['Value'] > max_value:\n",
        "        max_value = currency['Value']\n",
        "        max_currency_name = currency['Name']\n",
        "    return [max_currency_name, max_value]\n",
        "\n",
        "max_currency = get_max_currency()\n",
        "print(f'Валюта с максимальным курсом {max_currency[0]}. Величина курса - {max_currency[1]}')"
      ],
      "execution_count": null,
      "outputs": [
        {
          "output_type": "stream",
          "name": "stdout",
          "text": [
            "Валюта с максимальным курсом СДР (специальные права заимствования). Величина курса - 100.8776\n"
          ]
        }
      ]
    },
    {
      "cell_type": "markdown",
      "metadata": {
        "id": "mNGOvrAyhLtx"
      },
      "source": [
        "## Задание 2\n",
        "Добавьте в класс Rate параметр diff (со значениями True или False), который в случае значения True в методах курсов валют (eur, usd итд) будет возвращать не курс валюты, а изменение по сравнению в прошлым значением. Считайте, self.diff будет принимать значение True только при возврате значения курса. При отображении всей информации о валюте он не используется."
      ]
    },
    {
      "cell_type": "markdown",
      "metadata": {
        "id": "qVcUpfumhSYx"
      },
      "source": [
        "___\n",
        "### Решение задания 2"
      ]
    },
    {
      "cell_type": "code",
      "metadata": {
        "id": "QHA_7SPB-W9I"
      },
      "source": [
        "# На всякий случай копирую код класса Rate, если он снова удалится из каталога\n",
        "# coding: utf-8\n",
        "import requests\n",
        "\n",
        "def my_sum(x, y):\n",
        "    return x+y\n",
        "\n",
        "class Rate:\n",
        "    def __init__(self, format='value', diff=True):\n",
        "        self.format = format\n",
        "        self.diff = diff\n",
        "    \n",
        "    def exchange_rates(self):\n",
        "        \"\"\"\n",
        "        Возвращает ответ сервиса с информацией о валютах в виде:\n",
        "        \n",
        "        {\n",
        "            'AMD': {\n",
        "                'CharCode': 'AMD',\n",
        "                'ID': 'R01060',\n",
        "                'Name': 'Армянских драмов',\n",
        "                'Nominal': 100,\n",
        "                'NumCode': '051',\n",
        "                'Previous': 14.103,\n",
        "                'Value': 14.0879\n",
        "                },\n",
        "            ...\n",
        "        }\n",
        "        \"\"\"\n",
        "        r = requests.get('https://www.cbr-xml-daily.ru/daily_json.js')\n",
        "        return r.json()['Valute']\n",
        "    \n",
        "    def make_format(self, currency):\n",
        "        \"\"\"\n",
        "        Возвращает информацию о валюте currency в трех вариантах:\n",
        "        - полная информация о валюте при self.format = 'full' и diff = True:\n",
        "        Rate('full').make_format('EUR')\n",
        "        {\n",
        "            'CharCode': 'EUR',\n",
        "            'ID': 'R01239',\n",
        "            'Name': 'Евро',\n",
        "            'Nominal': 1,\n",
        "            'NumCode': '978',\n",
        "            'Previous': 79.6765,\n",
        "            'Value': 79.4966\n",
        "        }\n",
        "        \n",
        "        Если self.format = 'full' и diff = True - возвращает только курс\n",
        "        Rate('value').make_format('EUR')\n",
        "        79.4966\n",
        "\n",
        "        Если self.diff = False - возвращает разницу между текущим и предыдущим курсами\n",
        "        Rate('value').make_format('EUR')\n",
        "        -0.1799\n",
        "        \"\"\"\n",
        "        response = self.exchange_rates()\n",
        "        \n",
        "        if currency in response:\n",
        "            if self.format == 'full' and self.diff:\n",
        "                return response[currency]            \n",
        "            elif self.format == 'value'  and self.diff:\n",
        "                return response[currency]['Value']\n",
        "            else:\n",
        "                return response[currency]['Value'] - response[currency]['Previous']\n",
        "        return 'Error'\n",
        "    \n",
        "    def eur(self):\n",
        "        \"\"\"Возвращает курс евро на сегодня в формате self.format\"\"\"\n",
        "        return self.make_format('EUR')\n",
        "    \n",
        "    def usd(self):\n",
        "        \"\"\"Возвращает курс доллара на сегодня в формате self.format\"\"\"\n",
        "        return self.make_format('USD')\n",
        "\n",
        "    def AZN(self):\n",
        "        \"\"\"Возвращает курс азербайджанского маната на сегодня в формате self.format\"\"\"\n",
        "        return self.make_format('AZN')"
      ],
      "execution_count": null,
      "outputs": []
    },
    {
      "cell_type": "code",
      "metadata": {
        "colab": {
          "base_uri": "https://localhost:8080/"
        },
        "id": "xpdKMeQ5hVAX",
        "outputId": "cf8bb387-0db6-47c3-b202-1f7d94771c61"
      },
      "source": [
        "# Обновленный код класса Rate доступен в файле exchange.py в папке lib\n",
        "# По сравнению с первоначальной версией кода в новый код добавлены:\n",
        "# В метод __init__ добавлен еще один параметр diff со значением по умолчанию True\n",
        "# В этом методе инициализируется атрибут класса self.diff = diff\n",
        "# В методе make_format добавлено условие, анализирующее значение атрибута diff\n",
        "from lib.exchange_dz7 import Rate\n",
        "# Примеры создания экземпляра класса и вызова методов валют с разными параметрами\n",
        "# Rate('value', True).usd()\n",
        "# Rate('full', True).usd()\n",
        "# Не разобрался, почему при возвращении значения разницы валют появляются цифры в младших разрядах...\n",
        "Rate('value', False).usd()\n",
        "# round(Rate('value', False).usd(), 4)\n",
        "# round(Rate('value', False).eur(), 4)"
      ],
      "execution_count": 15,
      "outputs": [
        {
          "output_type": "execute_result",
          "data": {
            "text/plain": [
              "0.4606"
            ]
          },
          "metadata": {},
          "execution_count": 15
        }
      ]
    },
    {
      "cell_type": "markdown",
      "metadata": {
        "id": "ATjb9y0ehX6W"
      },
      "source": [
        "## Задание 3\n",
        "\n",
        "**Общие условия**\n",
        "У сотрудника по умолчанию известно имя и пройденные аккредитацииУспешное прохождение –1 балл\n",
        "\n",
        "**Разработчики**\n",
        "Повышение на 1 грейд за каждые 5 баллов\n",
        "\n",
        "**Дизайнеры**\n",
        "Повышение на 1 грейд за каждые 7 баллов. Получение международной премии – это +2 балла\n",
        "\n",
        "Остальные 5 отделов еще не прислали свои условия\n",
        "\n",
        "Напишите класс Designer, который учитывает количество международных премий. Подсказки в коде занятия в разделе “Домашнее задание задача 3”.\n",
        "\n",
        "**Комментарий по классу Designer такой:**\n",
        "Напишите класс Designer, который учитывает количество международных премий для дизайнеров (из презентации: “Повышение на 1 грейд за каждые 7 баллов. Получение международной премии – это +2 балла”). Считайте, что при выходе на работу сотрудник уже имеет две премии и их количество не меняется со стажем (конечно если хотите это можно вручную менять).\n",
        "\n",
        "Класс Designer пишется по аналогии с классом Developer из материалов занятия.\n",
        "\n"
      ]
    },
    {
      "cell_type": "markdown",
      "metadata": {
        "id": "y6hjeEluhaw3"
      },
      "source": [
        "___\n",
        "## Решение задания 3"
      ]
    },
    {
      "cell_type": "code",
      "metadata": {
        "colab": {
          "base_uri": "https://localhost:8080/"
        },
        "id": "mJMCRfAMhdav",
        "outputId": "f80b84a2-70bc-44bf-c133-6ae35d62beee"
      },
      "source": [
        "# Код Employee - взят из материалов занятия и не меняется.\n",
        "class Employee:\n",
        "    def __init__(self, name, seniority):\n",
        "        self.name = name\n",
        "        self.seniority = seniority\n",
        "        \n",
        "        self.grade = 1\n",
        "    \n",
        "    def grade_up(self):\n",
        "        \"\"\"Повышает уровень сотрудника\"\"\"\n",
        "        self.grade += 1\n",
        "    \n",
        "    def publish_grade(self):\n",
        "        \"\"\"Публикация результатов аккредитации сотрудников\"\"\"\n",
        "        print(self.name, self.grade)\n",
        "    \n",
        "    def check_if_it_is_time_for_upgrade(self):\n",
        "        pass\n",
        "# Код Developer - взят из материалов занятия и не меняется.\n",
        "class Developer(Employee):\n",
        "    def __init__(self, name, seniority):\n",
        "        super().__init__(name, seniority)\n",
        "    \n",
        "    def check_if_it_is_time_for_upgrade(self):\n",
        "        # для каждой аккредитации увеличиваем счетчик на 1\n",
        "        # пока считаем, что все разработчики проходят аккредитацию\n",
        "        self.seniority += 1\n",
        "        \n",
        "        # условие повышения сотрудника из презентации\n",
        "        if self.seniority % 5 == 0:\n",
        "            self.grade_up()\n",
        "        \n",
        "        # публикация результатов\n",
        "        return self.publish_grade()\n",
        "\n",
        "\"\"\"\n",
        "# Код Designer - разработан в рамках выполнения ДЗ\n",
        "# Класс наследует класс Employee\n",
        "# Условие задачи не вполне ясно, поэтому фиксирую собственные правила игры как я их понял\n",
        "# Внутри класса определяется атрибут international_awards\n",
        "# Будем считать, что сотрудники при устройстве на работу по умолчанию\n",
        "# Получают 1-й уровень квалификации (1-й грейд), учитывающийся при начислении з.п.\n",
        "# Также считаем, что на работу берут тех, у кого есть минимум 2 межд. премии\n",
        "# Считаем, что ЕДИНСТВЕННЫМ критерием, влияющим на увеличение грейда дизайнера,\n",
        "# является условие его регулярного и успешного участия в международных конкурсах\n",
        "# Таким образом условной аккредитацией каждого дизайнера будем считать\n",
        "# факт получения очередной международной премии, \n",
        "# за которую он получает 2 бонусных очка.\n",
        "# Если он набрал очередные 5 очков, его можно повысить в статусе (грейде)\n",
        "\"\"\"\n",
        "class Designer(Employee):\n",
        "    def __init__(self, name, seniority):\n",
        "        super().__init__(name, seniority)\n",
        "        # Инициализируем атрибут international_awards для нового дизайнера\n",
        "        self.international_awards = 2\n",
        "        # Инициализируем счетчик баллов, влияющий на повышение\n",
        "        self.waiting_points = 2 * 2\n",
        "\n",
        "    # Этот метод реализует процедуру аккредитации сотрудника.    \n",
        "    def check_if_it_is_time_for_upgrade(self):\n",
        "        # считаем, что эта процедура выполняется всякий раз, когда дизайнер\n",
        "        # получает очередную международную премию.\n",
        "        # Увеличиваем счетчик аккредитаций (он не влияет на повышение дизайнера,\n",
        "        # но этот атрибут есть у всех сотрудников)\n",
        "        self.seniority += 1\n",
        "\n",
        "        # Увеличиваем счетчик премий\n",
        "        self.international_awards += 1\n",
        "\n",
        "        # Увеличиваем на 2 счетчик баллов, влияющий на повышение\n",
        "        self.waiting_points += 2\n",
        "\n",
        "        # Проверяем условие повышения сотрудника из презентации\n",
        "        # Если сотрудник успел набрать 5 или более баллов, повышаем его, \n",
        "        # а в счетчик текущих баллов размещаем разницу предыдущего значения и 5\n",
        "        if self.waiting_points // 5 == 1:\n",
        "            self.waiting_points -= 5\n",
        "            self.grade_up()\n",
        "        \n",
        "        # публикация результатов\n",
        "        return self.publish_grade()\n",
        "\n",
        "# ТЕЛО ОСНОВНОЙ ПРОГРАММЫ, ИСПОЛЬЗУЮЩЕЙ КЛАСС Designer\n",
        "# Создаем нового сотрудника - дизайнера Игоря\n",
        "igor = Designer('Игорь', 0)\n",
        "\n",
        "# Фиксируем для дизайнера Игоря 10 международных премий.\n",
        "# Первая же премия даст ему дополнительных два балла к имеющимся у него 4 баллам,\n",
        "# которые он получил при устройстве на работу, и он повысит свой грейд.\n",
        "for i in range(10):\n",
        "    igor.check_if_it_is_time_for_upgrade()"
      ],
      "execution_count": null,
      "outputs": [
        {
          "output_type": "stream",
          "name": "stdout",
          "text": [
            "6\n",
            "Игорь 2\n",
            "3\n",
            "Игорь 2\n",
            "5\n",
            "Игорь 3\n",
            "2\n",
            "Игорь 3\n",
            "4\n",
            "Игорь 3\n",
            "6\n",
            "Игорь 4\n",
            "3\n",
            "Игорь 4\n",
            "5\n",
            "Игорь 5\n",
            "2\n",
            "Игорь 5\n",
            "4\n",
            "Игорь 5\n",
            "6\n",
            "Игорь 6\n",
            "3\n",
            "Игорь 6\n",
            "5\n",
            "Игорь 7\n",
            "2\n",
            "Игорь 7\n",
            "4\n",
            "Игорь 7\n",
            "6\n",
            "Игорь 8\n",
            "3\n",
            "Игорь 8\n",
            "5\n",
            "Игорь 9\n",
            "2\n",
            "Игорь 9\n",
            "4\n",
            "Игорь 9\n"
          ]
        }
      ]
    },
    {
      "cell_type": "code",
      "metadata": {
        "id": "6CSt962onen6"
      },
      "source": [
        ""
      ],
      "execution_count": null,
      "outputs": []
    }
  ]
}